{
 "cells": [
  {
   "cell_type": "markdown",
   "metadata": {
    "Collapsed": "false"
   },
   "source": [
    "# Machine Learning in Finance"
   ]
  },
  {
   "cell_type": "markdown",
   "metadata": {
    "Collapsed": "false"
   },
   "source": [
    "## Mergers & Acquisitions"
   ]
  },
  {
   "cell_type": "markdown",
   "metadata": {
    "Collapsed": "false"
   },
   "source": [
    "#### [Predicting Merger Targets & Acquirers from Text](https://www.aeaweb.org/conference/2017/preliminary/paper/BsTQtktS)"
   ]
  },
  {
   "cell_type": "markdown",
   "metadata": {
    "Collapsed": "false"
   },
   "source": [
    "We explore the use of a US firm's SEC filings to predict whether the firm will be an acquirer or a target of an acquisition within a year of the filing. Our approach uses text regression, in which frequencies of words and phrases in the document are used as independent variables in a logistic regression model. We find that word and phrase features have significant predictive power in models of being an acquirer or a target. In each case, the best performing models involve a different use of text alongside standard financial variables.\n",
    "* In this study, we exploit text data to predict whether a US firm will participate in a merger or acquisition. Specifically, we use the disclosure in the firm's Management Discussion and Analysis (MD&A), a section of the annual Form 10-K filing. We consider two predictions: (i) will the firm be an acquirer in the subsequent year after the filing? and (ii) will the firm be the target of an acquisition in the subsequent year? We explore the usefullness of text in making these predictions, and demonstrate how text-based forecasting models can offer intuitive hints about upcoming mergers.\n",
    "* Predicting acquirers with both text & financial data: 0.0528 R^2.\n",
    "* Predicting targets from both text & financial data: 0.0294 R^2.\n",
    "* Interestingly, we find that firms that use phrases associated with poor economic performance (such as 'net loss') have higher probability of becoming takeover targets. In addition, phrases that point to potential tax benefits (eg. 'effective tax rate' or 'loss carryforwards') and those that indicate the presence of financial constraints ('credit agreement') imply a higher probability of becoming a takeover target.\n",
    "* We find that, for target prediction, a model that interacts Tobin's Q with text generates the highest predictive power among all the models that we consider, with a pseudo R^2 of 0.0342."
   ]
  },
  {
   "cell_type": "markdown",
   "metadata": {
    "Collapsed": "false"
   },
   "source": [
    "## News-Based"
   ]
  },
  {
   "cell_type": "markdown",
   "metadata": {
    "Collapsed": "false"
   },
   "source": [
    "#### [News-Based Peers and Stock Returns](https://ssrn.com/abstract=3687222)"
   ]
  },
  {
   "cell_type": "markdown",
   "metadata": {
    "Collapsed": "false"
   },
   "source": [
    "Applying a \"co-coverage\" concept to the Dow Jones Newswire articles, we propose to identify each firm's news-based peers (NBPs) and thereby construct a time-varying firm-centric grouping aimed to augment existing industry classification schemes. The advantage o NBP-augmented schemes over traditional industry classifications is to better capture the up-to-date relative importance of the economic links between a base firm and its peers. We show that the base firm's share price responds more favourably to shocks to the stock returns of its NBPs than of its traditional industry peers that are not NBPs. \n",
    "* The response persists for several months, suggesting that the up-to-date relative importance of the economic links is not immediately clear to investors.\n",
    "* Why use text data? First, unlike time-invariant traditional industry classifications or annual classfication schemes based on the 10-K updates, the up-to-date economic link between firms can be promptly picked up by journalists and revealed in news articles. Second, the number of news articles covering each link between firms provides a natural objective scheme to weigh the relative importance of the links. As such, co-coverage news offers a potential wisdom-of-the-crowd solution to rate the links between firms, unlike the lack of differentiation among the links between firms of a traditional industry (eg. based on SIC code).\n",
    "* The return shocks transmitted from the NBPs can strongly predict the future returns of the base firm. We refer to this as the NBP momentum. We also document a monthly excess return of 1.06% (0.77%) achieved by forming an equal-weighted (value-weighted) dollar-neutral portfolio that buys stocks of the NBPs ranked in the highest quintile by their return shocks and sells those in the lowest quintile. This suggests that investors of the base firms tend to slowly react to the shocks affecting the NBPs.\n",
    "* To monitor for robustness: To study why the base firms positively respond to the price shock o their NBPs, we show that the NBPs and their base firm are characteristically similar in terms of a variety of fundamental characteristics. Moreover, we show that NBP momentum is not driven by small firms responding to large firms' earning releases, suggesting that the NBPs indeed capture the up-to-date relative importance of the base-peer links.\n",
    "* The market capitalization of the base firms in our sample accounts for 83% of the total market value of the CRSP universe. Thus, many of the base firms in our sample are large firms. Moreover, we show that the duration of NBPs of average only lasts for 1.4 years.\n",
    "* To form the portfolios, we first sort all firms into quintiles based on the NBPs' returns at the end of the prior month. We then calculate the equal-weighted excess return of the base firms of a quintile portfolio at the end of the current month. We focus on equal-weighted excess return to increase the power of the test because small firms are more likely to be subject to stronger investor underreaction. These portfolios are rebalanced every month; so we eventually obtain the time-series return performance for each quintile across the whole sample.\n"
   ]
  },
  {
   "cell_type": "code",
   "execution_count": null,
   "metadata": {
    "Collapsed": "false"
   },
   "outputs": [],
   "source": []
  }
 ],
 "metadata": {
  "kernelspec": {
   "display_name": "Python 3",
   "language": "python",
   "name": "python3"
  },
  "language_info": {
   "codemirror_mode": {
    "name": "ipython",
    "version": 3
   },
   "file_extension": ".py",
   "mimetype": "text/x-python",
   "name": "python",
   "nbconvert_exporter": "python",
   "pygments_lexer": "ipython3",
   "version": "3.7.4"
  }
 },
 "nbformat": 4,
 "nbformat_minor": 4
}
